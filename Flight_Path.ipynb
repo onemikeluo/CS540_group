{
 "cells": [
  {
   "cell_type": "code",
   "execution_count": 1,
   "metadata": {},
   "outputs": [],
   "source": [
    "import psycopg2\n",
    "import re\n",
    "import matplotlib.pyplot as plt\n",
    "import os\n",
    "import pandas as pd\n"
   ]
  },
  {
   "cell_type": "code",
   "execution_count": 2,
   "metadata": {},
   "outputs": [
    {
     "name": "stdout",
     "output_type": "stream",
     "text": [
      "SQL:  select parid::integer from volusia.parcel p where geom is not null\n"
     ]
    }
   ],
   "source": [
    "try:\n",
    "    conn = psycopg2.connect(\"dbname='Spatial' user='postgres' host='localhost' password='29April@1998'\")\n",
    "except:\n",
    "    print(\"cant connect to the database\")\n",
    "\n",
    "cur = conn.cursor()\n",
    "cur2 = conn.cursor()\n",
    "cur3 = conn.cursor()\n",
    "input_altkey = 3565215\n",
    "\n",
    "\n",
    "\n",
    "sql = \"select parid::integer from volusia.parcel p where geom is not null\" # limit 10\"\n",
    "\n",
    "print('SQL: ', sql)\n",
    "cur.execute(sql)\n",
    "\n",
    "# one way grab all the data into a multi-dimensional array\n",
    "#data = cur.fetchall()\n",
    "#actual_data = data[0][0]\n",
    "\n",
    "# I like to fetch one row at a time like reading data from a file\n"
   ]
  },
  {
   "cell_type": "code",
   "execution_count": 3,
   "metadata": {},
   "outputs": [
    {
     "name": "stdout",
     "output_type": "stream",
     "text": [
      "10000\n",
      "20000\n",
      "30000\n",
      "40000\n",
      "50000\n",
      "60000\n",
      "70000\n",
      "80000\n",
      "90000\n",
      "100000\n",
      "110000\n",
      "120000\n",
      "130000\n",
      "140000\n",
      "150000\n",
      "160000\n",
      "170000\n",
      "180000\n",
      "190000\n",
      "200000\n",
      "210000\n",
      "220000\n",
      "230000\n",
      "240000\n",
      "250000\n",
      "260000\n"
     ]
    }
   ],
   "source": [
    "i=0\n",
    "row = cur.fetchone()\n",
    "while row is not None:\n",
    "    i = i + 1\n",
    "    parid = str(row[0])\n",
    "    sql2 = \"select p.utc, p.geom, ST_Distance(p.geom, (select p2.geom from volusia.parcel p2 where p2.parid=\" + parid + \"))/5280  from public.rwy p where p.luc='1' order by p.geom <-> (select p2.geom from volusia.parcel p2 where p2.parid=\" + parid + \") limit 1;\"\n",
    "    cur2.execute(sql2)\n",
    "    row2 = cur2.fetchone()\n",
    "    parid2 = str(row2[0])\n",
    "    distance = row2[2]\n",
    "    sql3 = \"update volusia.parcel p1 set track_distance = \" + str(distance) + \" where p1.parid=\" + parid + \";\"\n",
    "    cur3.execute(sql3)\n",
    "    # print(sql3)\n",
    "    if i%10000 == 0:\n",
    "        print(i)\n",
    "        conn.commit()\n",
    "    row = cur.fetchone()\n",
    "\n",
    "#df = pd.\n",
    "conn.commit()\n",
    "conn.close()\n"
   ]
  }
 ],
 "metadata": {
  "kernelspec": {
   "display_name": "Python 3",
   "language": "python",
   "name": "python3"
  },
  "language_info": {
   "codemirror_mode": {
    "name": "ipython",
    "version": 3
   },
   "file_extension": ".py",
   "mimetype": "text/x-python",
   "name": "python",
   "nbconvert_exporter": "python",
   "pygments_lexer": "ipython3",
   "version": "3.8.3"
  }
 },
 "nbformat": 4,
 "nbformat_minor": 4
}
