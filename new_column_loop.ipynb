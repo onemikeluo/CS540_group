{
  "nbformat": 4,
  "nbformat_minor": 0,
  "metadata": {
    "kernelspec": {
      "display_name": "Python 3",
      "language": "python",
      "name": "python3"
    },
    "language_info": {
      "codemirror_mode": {
        "name": "ipython",
        "version": 3
      },
      "file_extension": ".py",
      "mimetype": "text/x-python",
      "name": "python",
      "nbconvert_exporter": "python",
      "pygments_lexer": "ipython3",
      "version": "3.8.5"
    },
    "colab": {
      "name": "new_column_loop.ipynb",
      "provenance": []
    }
  },
  "cells": [
    {
      "cell_type": "code",
      "metadata": {
        "id": "_IhzpakkH-tJ"
      },
      "source": [
        "import psycopg2\n",
        "import re\n",
        "import matplotlib.pyplot as plt\n",
        "import os\n",
        "import pandas as pd"
      ],
      "execution_count": null,
      "outputs": []
    },
    {
      "cell_type": "code",
      "metadata": {
        "id": "HEIvdp6lH-tO"
      },
      "source": [
        "try:\n",
        "    conn = psycopg2.connect(\"dbname='spatial' user='postgres' host='localhost' password='111111'\")\n",
        "except:\n",
        "    print(\"cant connect to the database\")"
      ],
      "execution_count": null,
      "outputs": []
    },
    {
      "cell_type": "code",
      "metadata": {
        "id": "7VKA3fIcH-tP"
      },
      "source": [
        "cur = conn.cursor()\n",
        "cur2 = conn.cursor()\n",
        "cur3 = conn.cursor()\n",
        "input_altkey = 3565215"
      ],
      "execution_count": null,
      "outputs": []
    },
    {
      "cell_type": "code",
      "metadata": {
        "id": "iEiuQUD7H-tP",
        "outputId": "76ab8593-248f-4ea1-a251-bf0b4ae7937b"
      },
      "source": [
        "sql = \"select parid::integer from volusia.parcel p where geom is not null\" # limit 10\"\n",
        "print('SQL: ', sql)\n",
        "cur.execute(sql)"
      ],
      "execution_count": null,
      "outputs": [
        {
          "output_type": "stream",
          "text": [
            "SQL:  select parid::integer from volusia.parcel p where geom is not null\n"
          ],
          "name": "stdout"
        }
      ]
    },
    {
      "cell_type": "code",
      "metadata": {
        "id": "VioT6nTJH-tQ",
        "outputId": "55094fbc-e99b-4168-f1b1-259768011065"
      },
      "source": [
        "i=0\n",
        "row = cur.fetchone()\n",
        "while row is not None:\n",
        "    i = i + 1\n",
        "    parid = str(row[0])\n",
        "    sql2 = \"select p.parid::integer, p.geom, ST_Distance(p.geom, (select p2.geom from volusia.parcel p2 where p2.parid=\" + parid + \"))/5280  from volusia.parcel p where p.luc='2000' order by p.geom <-> (select p2.geom from volusia.parcel p2 where p2.parid=\" + parid + \") limit 1;\"\n",
        "    ###sql2 = \"select p.parid::integer, p.geom, ST_Distance(p.geom, (select p2.geom from volusia.parcel p2 where p2.parid=\" \n",
        "    ### + parid + \"))/5280  from volusia.parcel p where p.luc='2000' order by p.geom <-> (select p2.geom \n",
        "    ### from volusia.parcel p2 where p2.parid=\" + parid + \") limit 1;\"\n",
        "    cur2.execute(sql2)\n",
        "    row2 = cur2.fetchone()\n",
        "    parid2 = str(row2[0])\n",
        "    distance = row2[2]\n",
        "    sql3 = \"update volusia.parcel p1 set gcdistance = \" + str(distance) + \" where p1.parid=\" + parid + \";\"\n",
        "    cur3.execute(sql3)\n",
        "    # print(sql3)\n",
        "    if i%10000 == 0:\n",
        "        print(i)\n",
        "        conn.commit()\n",
        "    row = cur.fetchone()"
      ],
      "execution_count": null,
      "outputs": [
        {
          "output_type": "stream",
          "text": [
            "10000\n",
            "20000\n",
            "30000\n",
            "40000\n",
            "50000\n",
            "60000\n",
            "70000\n",
            "80000\n",
            "90000\n",
            "100000\n",
            "110000\n",
            "120000\n",
            "130000\n",
            "140000\n",
            "150000\n",
            "160000\n",
            "170000\n",
            "180000\n",
            "190000\n",
            "200000\n",
            "210000\n",
            "220000\n",
            "230000\n",
            "240000\n",
            "250000\n",
            "260000\n"
          ],
          "name": "stdout"
        }
      ]
    },
    {
      "cell_type": "code",
      "metadata": {
        "id": "dMDkfmb9H-tQ"
      },
      "source": [
        ""
      ],
      "execution_count": null,
      "outputs": []
    }
  ]
}